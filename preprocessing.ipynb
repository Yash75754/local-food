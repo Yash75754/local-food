{
 "cells": [
  {
   "cell_type": "code",
   "execution_count": 7,
   "id": "974cbf35-5128-4ca9-8e65-fad47f37a982",
   "metadata": {},
   "outputs": [],
   "source": [
    "import pandas as pd \n",
    "import numpy as np \n",
    "from sklearn.preprocessing import LabelEncoder, OneHotEncoder, StandardScaler \n",
    "from sklearn.impute import SimpleImputer \n",
    "from sklearn.model_selection import train_test_split\n",
    "import warnings\n",
    "warnings.filterwarnings('ignore')"
   ]
  },
  {
   "cell_type": "code",
   "execution_count": 11,
   "id": "c9c1c931-5f19-47e0-87bc-d7df0a2008e3",
   "metadata": {},
   "outputs": [],
   "source": [
    "providers = pd.read_csv(\"providers_data.csv\")\n",
    "receivers = pd.read_csv(\"receivers_data.csv\") \n",
    "listings = pd.read_csv(\"food_listings_data.csv\") \n",
    "claims = pd.read_csv(\"claims_data.csv\")"
   ]
  },
  {
   "cell_type": "code",
   "execution_count": 29,
   "id": "ae21465d-f688-4ce5-abca-28f01c6d606a",
   "metadata": {},
   "outputs": [
    {
     "name": "stdout",
     "output_type": "stream",
     "text": [
      "\n",
      "=== claims columns (5) ===\n",
      "['Claim_ID', 'Food_ID', 'Receiver_ID', 'Status', 'Timestamp']\n",
      "sample:\n",
      "   Claim_ID  Food_ID  Receiver_ID     Status        Timestamp\n",
      "0         1      164          908    Pending    3/5/2025 5:26\n",
      "1         2      353          391  Cancelled  3/11/2025 10:24\n",
      "2         3      626          492  Completed   3/21/2025 0:59\n",
      "\n",
      "=== listings columns (9) ===\n",
      "['Food_ID', 'Food_Name', 'Quantity', 'Expiry_Date', 'Provider_ID', 'Provider_Type', 'Location', 'Food_Type', 'Meal_Type']\n",
      "sample:\n",
      "   Food_ID Food_Name  Quantity Expiry_Date  Provider_ID     Provider_Type  \\\n",
      "0        1     Bread        43   3/17/2025          110     Grocery Store   \n",
      "1        2      Soup        22   3/24/2025          791     Grocery Store   \n",
      "2        3    Fruits        46   3/28/2025          478  Catering Service   \n",
      "\n",
      "           Location       Food_Type  Meal_Type  \n",
      "0  South Kellyville  Non-Vegetarian  Breakfast  \n",
      "1        West James  Non-Vegetarian     Dinner  \n",
      "2       Lake Regina           Vegan  Breakfast  \n",
      "\n",
      "=== providers columns (6) ===\n",
      "['Provider_ID', 'Name', 'Type', 'Address', 'City', 'Contact']\n",
      "sample:\n",
      "   Provider_ID                         Name           Type  \\\n",
      "0            1             Gonzales-Cochran    Supermarket   \n",
      "1            2  Nielsen, Johnson and Fuller  Grocery Store   \n",
      "2            3                 Miller-Black    Supermarket   \n",
      "\n",
      "                                             Address            City  \\\n",
      "0  74347 Christopher Extensions\\nAndreamouth, OK ...     New Jessica   \n",
      "1           91228 Hanson Stream\\nWelchtown, OR 27136     East Sheena   \n",
      "2  561 Martinez Point Suite 507\\nGuzmanchester, W...  Lake Jesusview   \n",
      "\n",
      "                Contact  \n",
      "0       +1-600-220-0480  \n",
      "1  +1-925-283-8901x6297  \n",
      "2      001-517-295-2206  \n",
      "\n",
      "=== receivers columns (5) ===\n",
      "['Receiver_ID', 'Name', 'Type', 'City', 'Contact']\n",
      "sample:\n",
      "   Receiver_ID          Name        Type               City           Contact\n",
      "0            1  Donald Gomez     Shelter     Port Carlburgh     (955)922-5295\n",
      "1            2  Laurie Ramos  Individual         Lewisburgh      761.042.1570\n",
      "2            3  Ashley Mckee         NGO  South Randalltown  691-023-0094x856\n"
     ]
    }
   ],
   "source": [
    "for name, df in [('claims', claims), ('listings', listings), ('providers', providers), ('receivers', receivers)]:\n",
    "    print(f\"\\n=== {name} columns ({len(df.columns)}) ===\")\n",
    "    print(df.columns.tolist())\n",
    "    print(f\"sample:\\n{df.head(3)}\")"
   ]
  },
  {
   "cell_type": "code",
   "execution_count": 31,
   "id": "198f2389-0b3c-4369-8593-4e4f848be9c8",
   "metadata": {},
   "outputs": [
    {
     "name": "stdout",
     "output_type": "stream",
     "text": [
      "Normalized columns:\n",
      "claims: ['claim_id', 'food_id', 'receiver_id', 'status', 'timestamp']\n",
      "listings: ['food_id', 'food_name', 'quantity', 'expiry_date', 'provider_id', 'provider_type', 'location', 'food_type', 'meal_type']\n"
     ]
    }
   ],
   "source": [
    "def normalize_cols(df):\n",
    "    # strip whitespace, lower-case, replace spaces and hyphens with underscore\n",
    "    df = df.copy()\n",
    "    df.columns = (\n",
    "        df.columns\n",
    "          .astype(str)\n",
    "          .str.strip()\n",
    "          .str.lower()\n",
    "          .str.replace(r'[\\s\\-]+', '_', regex=True)\n",
    "    )\n",
    "    return df\n",
    "\n",
    "claims = normalize_cols(claims)\n",
    "listings = normalize_cols(listings)\n",
    "providers = normalize_cols(providers)\n",
    "receivers = normalize_cols(receivers)\n",
    "\n",
    "# check again\n",
    "print(\"Normalized columns:\")\n",
    "print(\"claims:\", claims.columns.tolist())\n",
    "print(\"listings:\", listings.columns.tolist())\n"
   ]
  },
  {
   "cell_type": "code",
   "execution_count": 33,
   "id": "f77b7d74-f248-468c-a8f8-f07dcd5a7931",
   "metadata": {},
   "outputs": [
    {
     "name": "stdout",
     "output_type": "stream",
     "text": [
      "Possible food-id columns:\n",
      "claims: ['food_id']\n",
      "listings: ['food_id', 'food_name', 'food_type']\n",
      "providers (id-like): ['provider_id']\n",
      "receivers (id-like): ['receiver_id']\n"
     ]
    }
   ],
   "source": [
    "def find_candidates(df, keyword):\n",
    "    return [c for c in df.columns if keyword in c]\n",
    "\n",
    "print(\"Possible food-id columns:\")\n",
    "print(\"claims:\", find_candidates(claims, 'food'))\n",
    "print(\"listings:\", find_candidates(listings, 'food'))\n",
    "print(\"providers (id-like):\", find_candidates(providers, 'id'))\n",
    "print(\"receivers (id-like):\", find_candidates(receivers, 'id'))\n"
   ]
  },
  {
   "cell_type": "code",
   "execution_count": 35,
   "id": "9ac04710-9121-42f0-9f5d-1e9bfb30a9a1",
   "metadata": {},
   "outputs": [
    {
     "name": "stdout",
     "output_type": "stream",
     "text": [
      "claims+listings merge counts:\n",
      " _merge\n",
      "both          1000\n",
      "left_only        0\n",
      "right_only       0\n",
      "Name: count, dtype: int64\n",
      "Final merged df shape: (1000, 22)\n"
     ]
    }
   ],
   "source": [
    "# assume normalize_cols() already applied and any necessary renaming done\n",
    "df = (\n",
    "    claims\n",
    "    .merge(listings, on=\"food_id\", how=\"left\", indicator=True)\n",
    ")\n",
    "print(\"claims+listings merge counts:\\n\", df['_merge'].value_counts())\n",
    "\n",
    "# optional: drop indicator then merge providers and receivers\n",
    "df = df.drop(columns=['_merge'])\n",
    "df = df.merge(providers, on=\"provider_id\", how=\"left\")\n",
    "df = df.merge(receivers, on=\"receiver_id\", how=\"left\")\n",
    "print(\"Final merged df shape:\", df.shape)\n"
   ]
  },
  {
   "cell_type": "code",
   "execution_count": 37,
   "id": "18e9d789-65c8-4097-867f-48be4f08eddd",
   "metadata": {},
   "outputs": [],
   "source": [
    "num_cols = df.select_dtypes(include=[np.number]).columns \n",
    "imputer_num = SimpleImputer(strategy=\"median\") \n",
    "df[num_cols] = imputer_num.fit_transform(df[num_cols])"
   ]
  },
  {
   "cell_type": "code",
   "execution_count": 39,
   "id": "a9c9858c-2c6f-4907-8d07-fa4bf8d6e5f9",
   "metadata": {},
   "outputs": [],
   "source": [
    "cat_cols = df.select_dtypes(include=[\"object\"]).columns \n",
    "imputer_cat = SimpleImputer(strategy=\"most_frequent\") \n",
    "df[cat_cols] = imputer_cat.fit_transform(df[cat_cols])\n"
   ]
  },
  {
   "cell_type": "code",
   "execution_count": 41,
   "id": "a70fe41b-7804-479e-8cdb-e0449d7cba14",
   "metadata": {},
   "outputs": [],
   "source": [
    "if \"expiry_date\" in df.columns: \n",
    "    df[\"expiry_date\"] = pd.to_datetime(df[\"expiry_date\"], errors=\"coerce\") \n",
    "    df[\"days_to_expiry\"] = (df[\"expiry_date\"] - pd.Timestamp.today()).dt.days.fillna(0)"
   ]
  },
  {
   "cell_type": "code",
   "execution_count": 53,
   "id": "903b84bd-0ddd-4052-a745-fc5894e16bac",
   "metadata": {},
   "outputs": [],
   "source": [
    "categorical_features = [\"status\", \"food_type\", \"meal_type\", \"provider_type\", \"city\"]\n"
   ]
  },
  {
   "cell_type": "code",
   "execution_count": 55,
   "id": "a63d503b-8987-4f90-ae58-4572761bb2ee",
   "metadata": {},
   "outputs": [],
   "source": [
    "from sklearn.preprocessing import LabelEncoder\n",
    "\n",
    "categorical_features = [\"status\", \"food_type\", \"meal_type\", \"provider_type\", \"city\"]\n",
    "label_encoders = {}\n",
    "\n",
    "for col in categorical_features:\n",
    "    if col in df.columns:\n",
    "        le = LabelEncoder()\n",
    "        df[col] = le.fit_transform(df[col].astype(str))\n",
    "        label_encoders[col] = le\n"
   ]
  },
  {
   "cell_type": "code",
   "execution_count": 63,
   "id": "75e889a1-a44d-4148-983c-ef7ebebd5614",
   "metadata": {},
   "outputs": [],
   "source": [
    "if \"food_type\" in df.columns:\n",
    "    onehot = pd.get_dummies(df[\"food_type\"], prefix=\"food\")\n",
    "    df = pd.concat([df, onehot], axis=1)\n",
    "    df.drop(columns=[\"food_type\"], inplace=True)\n"
   ]
  },
  {
   "cell_type": "code",
   "execution_count": 67,
   "id": "f13807ad-4dc7-49b7-9d8d-fdfc2befb33a",
   "metadata": {},
   "outputs": [],
   "source": [
    "scale_cols = [\"quantity\", \"days_to_expiry\"] \n",
    "scaler = StandardScaler() \n",
    "df[scale_cols] = scaler.fit_transform(df[scale_cols])"
   ]
  },
  {
   "cell_type": "code",
   "execution_count": 71,
   "id": "b8c2e121-2e21-4647-a958-fc9e9247af0b",
   "metadata": {},
   "outputs": [
    {
     "name": "stdout",
     "output_type": "stream",
     "text": [
      "Features shape: (1000, 22)\n"
     ]
    }
   ],
   "source": [
    "if \"status\" in df.columns: \n",
    "    df[\"target\"] = (df[\"status\"] == \"Completed\").astype(int) \n",
    "    y = df[\"target\"]\n",
    "    X = df.drop(columns=[\"target\", \"status\", \"expiry_date\", \"timestamp\"]) \n",
    "print(\"Features shape:\", X.shape)"
   ]
  },
  {
   "cell_type": "code",
   "execution_count": 75,
   "id": "613692d3-e443-49b7-8071-7f251d11c404",
   "metadata": {},
   "outputs": [
    {
     "name": "stdout",
     "output_type": "stream",
     "text": [
      "Train shape: (800, 22) Test shape: (200, 22)\n"
     ]
    }
   ],
   "source": [
    "if y is not None: \n",
    "    X_train, X_test, y_train, y_test = train_test_split(X, y, test_size=0.2, random_state=42) \n",
    "    print(\"Train shape:\", X_train.shape, \"Test shape:\", X_test.shape)\n",
    "else: \n",
    "    X_train, X_test = train_test_split(X, test_size=0.2, random_state=42)"
   ]
  },
  {
   "cell_type": "code",
   "execution_count": 81,
   "id": "e986eb5a-e19d-483a-b643-61926f5c6759",
   "metadata": {},
   "outputs": [
    {
     "name": "stdout",
     "output_type": "stream",
     "text": [
      "✅ Preprocessing complete. Cleaned datasets saved.\n"
     ]
    }
   ],
   "source": [
    "import os\n",
    "\n",
    "# Create the folder if it doesn't exist\n",
    "os.makedirs(\"data\", exist_ok=True)\n",
    "\n",
    "# Now save the CSV files\n",
    "X_train.to_csv(\"data/cleaned_train.csv\", index=False)\n",
    "X_test.to_csv(\"data/cleaned_test.csv\", index=False)\n",
    "\n",
    "print(\"✅ Preprocessing complete. Cleaned datasets saved.\")\n"
   ]
  },
  {
   "cell_type": "code",
   "execution_count": null,
   "id": "ff637e45-6a28-4d94-8617-55153ffa8d2e",
   "metadata": {},
   "outputs": [],
   "source": []
  }
 ],
 "metadata": {
  "kernelspec": {
   "display_name": "Python [conda env:base] *",
   "language": "python",
   "name": "conda-base-py"
  },
  "language_info": {
   "codemirror_mode": {
    "name": "ipython",
    "version": 3
   },
   "file_extension": ".py",
   "mimetype": "text/x-python",
   "name": "python",
   "nbconvert_exporter": "python",
   "pygments_lexer": "ipython3",
   "version": "3.12.7"
  }
 },
 "nbformat": 4,
 "nbformat_minor": 5
}
